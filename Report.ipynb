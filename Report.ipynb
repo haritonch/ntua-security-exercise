{
 "cells": [
  {
   "cell_type": "code",
   "execution_count": 1,
   "metadata": {},
   "outputs": [],
   "source": [
    "import ciphers\n",
    "from collections import defaultdict\n",
    "import matplotlib.pyplot as plt"
   ]
  },
  {
   "cell_type": "code",
   "execution_count": 2,
   "metadata": {},
   "outputs": [],
   "source": [
    "def is_upper(letter):\n",
    "    return ord('A') <= ord(letter) <= ord('Z')"
   ]
  },
  {
   "cell_type": "code",
   "execution_count": 3,
   "metadata": {},
   "outputs": [],
   "source": [
    "def just_letters(message):\n",
    "    m = []\n",
    "    for c in message.upper():\n",
    "        if is_upper(c):\n",
    "            m.append(c)\n",
    "    return ''.join(m)"
   ]
  },
  {
   "cell_type": "code",
   "execution_count": 4,
   "metadata": {},
   "outputs": [],
   "source": [
    "def frequencies(m):\n",
    "    f = {chr(c): 0 for c in range(ord('A'), ord('Z')+1)}\n",
    "    for c in m:\n",
    "        f[c] += 1 / len(m)\n",
    "    return {k: v for k, v in sorted(f.items(), key=lambda item: item[1], reverse=True)}"
   ]
  },
  {
   "cell_type": "code",
   "execution_count": 5,
   "metadata": {},
   "outputs": [],
   "source": [
    "def most_frequent_key(freq):\n",
    "    max_f = float('-inf')\n",
    "    ans = None\n",
    "    for k in freq:\n",
    "        if freq[k] > max_f:\n",
    "            max_f = freq[k]\n",
    "            ans = k\n",
    "    return ans"
   ]
  },
  {
   "cell_type": "code",
   "execution_count": 6,
   "metadata": {},
   "outputs": [],
   "source": [
    "def freq_diagram(f):\n",
    "    plt.bar(f.keys(), f.values())\n",
    "    plt.show()"
   ]
  },
  {
   "cell_type": "code",
   "execution_count": 7,
   "metadata": {},
   "outputs": [],
   "source": [
    "english_frequencies = {\n",
    "    'E': 0.127,\n",
    "    'T': 0.0906,\n",
    "    'A': 0.0817,\n",
    "    'O': 0.0751,\n",
    "    'I': 0.0697,\n",
    "    'N': 0.0675,\n",
    "    'S': 0.0633,\n",
    "    'H': 0.0609,\n",
    "    'R': 0.0599,\n",
    "    'D': 0.0425,\n",
    "    'L': 0.0403,\n",
    "    'C': 0.0278,\n",
    "    'U': 0.0276,\n",
    "    'M': 0.0241,\n",
    "    'W': 0.0236,\n",
    "    'F': 0.0223,\n",
    "    'G': 0.0202,\n",
    "    'Y': 0.0197,\n",
    "    'P': 0.0193,\n",
    "    'B': 0.0129,\n",
    "    'V': 0.0098,\n",
    "    'K': 0.0077,\n",
    "    'J': 0.0015,\n",
    "    'X': 0.0015,\n",
    "    'Q': 0.001,\n",
    "    'Z': 0.0007\n",
    "}"
   ]
  },
  {
   "cell_type": "markdown",
   "metadata": {},
   "source": [
    "Παρακάτω βλέπουμε τις συχνότητες των γραμμάτων σε κείμενα αγγλικής γλώσσας"
   ]
  },
  {
   "cell_type": "code",
   "execution_count": 8,
   "metadata": {},
   "outputs": [
    {
     "data": {
      "image/png": "[encoded data removed]",
      "text/plain": [
       "<Figure size 432x288 with 1 Axes>"
      ]
     },
     "metadata": {
      "needs_background": "light"
     },
     "output_type": "display_data"
    }
   ],
   "source": [
    "freq_diagram(english_frequencies)"
   ]
  },
  {
   "cell_type": "markdown",
   "metadata": {},
   "source": [
    "Παρακάτω βλέπουμε το αρχικό κείμενο το οποίο θα χρησιμοποιήσουμε για τις ασκήσεις 2 και 3"
   ]
  },
  {
   "cell_type": "code",
   "execution_count": 9,
   "metadata": {},
   "outputs": [
    {
     "name": "stdout",
     "output_type": "stream",
     "text": [
      "But I must explain to you how all this mistaken idea of denouncing pleasure and praising pain was born and I will give you a complete account of the system, and expound the actual teachings of the great explorer of the truth, the master-builder of human happiness. No one rejects, dislikes, or avoids pleasure itself, because it is pleasure, but because those who do not know how to pursue pleasure rationally encounter consequences that are extremely painful. Nor again is there anyone who loves or pursues or desires to obtain pain of itself, because it is pain, but because occasionally circumstances occur in which toil and pain can procure him some great pleasure. To take a trivial example, which of us ever undertakes laborious physical exercise, except to obtain some advantage from it? But who has any right to find fault with a man who chooses to enjoy a pleasure that has no annoying consequences, or one who avoids a pain that produces no resultant pleasure? On the other hand, we denounce with righteous indignation and dislike men who are so beguiled and demoralized by the charms of pleasure of the moment, so blinded by desire, that they cannot foresee the pain and trouble that are bound to ensue; and equal blame belongs to those who fail in their duty through weakness of will, which is the same as saying through shrinking from toil and pain. These cases are perfectly simple and easy to distinguish. In a free hour, when our power of choice is untrammelled and when nothing prevents our being able to do what we like best, every pleasure is to be welcomed and every pain avoided. But in certain circumstances and owing to the claims of duty or the obligations of business it will frequently occur that pleasures have to be repudiated and annoyances accepted. The wise man therefore always holds in these matters to this principle of selection: he rejects pleasures to secure other greater pleasures, or else he endures pains to avoid worse pains. But I must explain to you how all this mistaken idea of denouncing pleasure and praising pain was born and I will give you a complete account of the system, and expound the actual teachings of the great explorer of the truth, the master-builder of human happiness. No one rejects, dislikes, or avoids pleasure itself, because it is pleasure, but because those who do not know how to pursue pleasure rationally encounter consequences that are extremely painful. Nor again is there anyone who loves or pursues or desires to obtain pain of itself, because it is pain, but because occasionally circumstances occur in which toil and pain can procure him some great pleasure. To take a trivial example, which of us ever undertakes laborious physical exercise, except to obtain some advantage from it? But who has any right to find fault with a man who chooses to enjoy a pleasure that has no annoying consequences, or one who avoids a pain that produces no resultant pleasure? On the other hand, we denounce with righteous indignation and dislike men who are so beguiled and demoralized by the charms of pleasure of the moment, so blinded by desire, that they cannot foresee the pain and trouble that are bound to ensue; and equal blame belongs to those who fail in their duty through weakness of will, which is the same as saying through shrinking from toil and pain. These cases are perfectly simple and easy to distinguish. In a free hour, when our power of choice is untrammelled and when nothing prevents our being able to do what we like best, every pleasure is to be welcomed and every pain avoided. But in certain circumstances and owing to the claims of duty or the obligations of business it will frequently occur that pleasures have to be repudiated and annoyances accepted. The wise man therefore always holds in these matters to this principle of selection: he rejects pleasures to secure other greater pleasures, or else he endures pains to avoid worse pains. But I must explain to you how all this mistaken idea of denouncing pleasure and praising pain was born and I will give you a complete account of the system, and expound the actual teachings of the great explorer of the truth, the master-builder of human happiness. No one rejects, dislikes, or avoids pleasure itself, because it is pleasure, but because those who do not know how to pursue pleasure rationally encounter consequences that are extremely painful. Nor again is there anyone who loves or pursues or desires to obtain pain of itself, because it is pain, but because occasionally circumstances occur in which toil and pain can procure him some great pleasure. To take a trivial example, which of us ever undertakes laborious physical exercise, except to obtain some advantage from it? But who has any right to find fault with a man who chooses to enjoy a pleasure that has no annoying consequences, or one who avoids a pain that produces no resultant pleasure? On the other hand, we denounce with righteous indignation and dislike men who are so beguiled and demoralized by the charms of pleasure of the moment, so blinded by desire, that they cannot foresee the pain and trouble that are bound to ensue; and equal blame belongs to those who fail in their duty through weakness of will, which is the same as saying through shrinking from toil and pain. These cases are perfectly simple and easy to distinguish. In a free hour, when our power of choice is untrammelled and when nothing prevents our being able to do what we like best, every pleasure is to be welcomed and every pain avoided. But in certain circumstances and owing to the claims of duty or the obligations of business it will frequently occur that pleasures have to be repudiated and annoyances accepted. The wise man therefore always holds in these matters to this principle of selection: he rejects pleasures to secure other greater pleasures, or else he endures pains to avoid worse pains. But I must explain to you how all this mistaken idea of denouncing pleasure and praising pain was born and I will give you a complete account of the system, and expound the actual teachings of the great explorer of the truth, the master-builder of human happiness. No one rejects, dislikes, or avoids pleasure itself, because it is pleasure, but because those who do not know how to pursue pleasure rationally encounter consequences that are extremely painful. Nor again is there anyone who loves or pursues or desires to obtain pain of itself, because it is pain, but because occasionally circumstances occur in which toil and pain can procure him some great pleasure. To take a trivial example, which of us ever undertakes laborious physical exercise, except to obtain some advantage from it? But who has any right to find fault with a man who chooses to enjoy a pleasure that has no annoying consequences, or one who avoids a pain that produces no resultant pleasure? On the other hand, we denounce with righteous indignation and dislike men who are so beguiled and demoralized by the charms of pleasure of the moment, so blinded by desire, that they cannot foresee the pain and trouble that are bound to ensue; and equal blame belongs to those who fail in their duty through weakness of will, which is the same as saying through shrinking from toil and pain. These cases are perfectly simple and easy to distinguish. In a free hour, when our power of choice is untrammelled and when nothing prevents our being able to do what we like best, every pleasure is to be welcomed and every pain avoided. But in certain circumstances and owing to the claims of duty or the obligations of business it will frequently occur that pleasures have to be repudiated and annoyances accepted. The wise man therefore always holds in these matters to this principle of selection: he rejects pleasures to secure other greater pleasures, or else he endures pains to avoid worse pains. But I must explain to you how all this mistaken idea of denouncing pleasure and praising pain was born and I will give you a complete account of the system, and expound the actual teachings of the great explorer of the truth, the master-builder of human happiness. No one rejects, dislikes, or avoids pleasure itself, because it is pleasure, but because those who do not know how to pursue pleasure rationally encounter consequences that are extremely painful. Nor again is there anyone who loves or pursues or desires to obtain pain of itself, because it is pain, but because occasionally circumstances occur in which toil and pain can procure him some great pleasure. To take a trivial example, which of us ever undertakes laborious physical exercise, except to obtain some advantage from it? But who has any right to find fault with a man who chooses to enjoy a pleasure that has no annoying consequences, or one who avoids a pain that produces no resultant pleasure? On the other hand, we denounce with righteous indignation and dislike men who are so beguiled and demoralized by the charms of pleasure of the moment, so blinded by desire, that they cannot foresee the pain and trouble that are bound to ensue; and equal blame belongs to those who fail in their duty through weakness of will, which is the same as saying through shrinking from toil and pain. These cases are perfectly simple and easy to distinguish. In a free hour, when our power of choice is untrammelled and when nothing prevents our being able to do what we like best, every pleasure is to be welcomed and every pain avoided. But in certain circumstances and owing to the claims of duty or the obligations of business it will frequently occur that pleasures have to be repudiated and annoyances accepted. The wise man therefore always holds in these matters to this principle of selection: he rejects pleasures to secure other greater pleasures, or else he endures pains to avoid worse pains.But I must explain to you how all this mistaken idea of denouncing pleasure and praising pain was born and I will give you a complete account of the system, and expound the actual teachings of the great explorer of the truth, the master-builder of human happiness. No one rejects, dislikes, or avoids pleasure itself, because it is pleasure, but because those who do not know how to pursue pleasure rationally encounter consequences that are extremely painful. Nor again is there anyone who loves or pursues or desires to obtain pain of itself, because it is pain, but because occasionally circumstances occur in which toil and pain can procure him some great pleasure. To take a trivial example, which of us ever undertakes laborious physical exercise, except to obtain some advantage from it? But who has any right to find fault with a man who chooses to enjoy a pleasure that has no annoying consequences, or one who avoids a pain that produces no resultant pleasure? On the other hand, we denounce with righteous indignation and dislike men who are so beguiled and demoralized by the charms of pleasure of the moment, so blinded by desire, that they cannot foresee the pain and trouble that are bound to ensue; and equal blame belongs to those who fail in their duty through weakness of will, which is the same as saying through shrinking from toil and pain. These cases are perfectly simple and easy to distinguish. In a free hour, when our power of choice is untrammelled and when nothing prevents our being able to do what we like best, every pleasure is to be welcomed and every pain avoided. But in certain circumstances and owing to the claims of duty or the obligations of business it will frequently occur that pleasures have to be repudiated\n"
     ]
    }
   ],
   "source": [
    "message = \"\"\"But I must explain to you how all this mistaken idea of denouncing pleasure and praising pain was born and I will give you a complete account of the system, and expound the actual teachings of the great explorer of the truth, the master-builder of human happiness. No one rejects, dislikes, or avoids pleasure itself, because it is pleasure, but because those who do not know how to pursue pleasure rationally encounter consequences that are extremely painful. Nor again is there anyone who loves or pursues or desires to obtain pain of itself, because it is pain, but because occasionally circumstances occur in which toil and pain can procure him some great pleasure. To take a trivial example, which of us ever undertakes laborious physical exercise, except to obtain some advantage from it? But who has any right to find fault with a man who chooses to enjoy a pleasure that has no annoying consequences, or one who avoids a pain that produces no resultant pleasure? On the other hand, we denounce with righteous indignation and dislike men who are so beguiled and demoralized by the charms of pleasure of the moment, so blinded by desire, that they cannot foresee the pain and trouble that are bound to ensue; and equal blame belongs to those who fail in their duty through weakness of will, which is the same as saying through shrinking from toil and pain. These cases are perfectly simple and easy to distinguish. In a free hour, when our power of choice is untrammelled and when nothing prevents our being able to do what we like best, every pleasure is to be welcomed and every pain avoided. But in certain circumstances and owing to the claims of duty or the obligations of business it will frequently occur that pleasures have to be repudiated and annoyances accepted. The wise man therefore always holds in these matters to this principle of selection: he rejects pleasures to secure other greater pleasures, or else he endures pains to avoid worse pains. But I must explain to you how all this mistaken idea of denouncing pleasure and praising pain was born and I will give you a complete account of the system, and expound the actual teachings of the great explorer of the truth, the master-builder of human happiness. No one rejects, dislikes, or avoids pleasure itself, because it is pleasure, but because those who do not know how to pursue pleasure rationally encounter consequences that are extremely painful. Nor again is there anyone who loves or pursues or desires to obtain pain of itself, because it is pain, but because occasionally circumstances occur in which toil and pain can procure him some great pleasure. To take a trivial example, which of us ever undertakes laborious physical exercise, except to obtain some advantage from it? But who has any right to find fault with a man who chooses to enjoy a pleasure that has no annoying consequences, or one who avoids a pain that produces no resultant pleasure? On the other hand, we denounce with righteous indignation and dislike men who are so beguiled and demoralized by the charms of pleasure of the moment, so blinded by desire, that they cannot foresee the pain and trouble that are bound to ensue; and equal blame belongs to those who fail in their duty through weakness of will, which is the same as saying through shrinking from toil and pain. These cases are perfectly simple and easy to distinguish. In a free hour, when our power of choice is untrammelled and when nothing prevents our being able to do what we like best, every pleasure is to be welcomed and every pain avoided. But in certain circumstances and owing to the claims of duty or the obligations of business it will frequently occur that pleasures have to be repudiated and annoyances accepted. The wise man therefore always holds in these matters to this principle of selection: he rejects pleasures to secure other greater pleasures, or else he endures pains to avoid worse pains. But I must explain to you how all this mistaken idea of denouncing pleasure and praising pain was born and I will give you a complete account of the system, and expound the actual teachings of the great explorer of the truth, the master-builder of human happiness. No one rejects, dislikes, or avoids pleasure itself, because it is pleasure, but because those who do not know how to pursue pleasure rationally encounter consequences that are extremely painful. Nor again is there anyone who loves or pursues or desires to obtain pain of itself, because it is pain, but because occasionally circumstances occur in which toil and pain can procure him some great pleasure. To take a trivial example, which of us ever undertakes laborious physical exercise, except to obtain some advantage from it? But who has any right to find fault with a man who chooses to enjoy a pleasure that has no annoying consequences, or one who avoids a pain that produces no resultant pleasure? On the other hand, we denounce with righteous indignation and dislike men who are so beguiled and demoralized by the charms of pleasure of the moment, so blinded by desire, that they cannot foresee the pain and trouble that are bound to ensue; and equal blame belongs to those who fail in their duty through weakness of will, which is the same as saying through shrinking from toil and pain. These cases are perfectly simple and easy to distinguish. In a free hour, when our power of choice is untrammelled and when nothing prevents our being able to do what we like best, every pleasure is to be welcomed and every pain avoided. But in certain circumstances and owing to the claims of duty or the obligations of business it will frequently occur that pleasures have to be repudiated and annoyances accepted. The wise man therefore always holds in these matters to this principle of selection: he rejects pleasures to secure other greater pleasures, or else he endures pains to avoid worse pains. But I must explain to you how all this mistaken idea of denouncing pleasure and praising pain was born and I will give you a complete account of the system, and expound the actual teachings of the great explorer of the truth, the master-builder of human happiness. No one rejects, dislikes, or avoids pleasure itself, because it is pleasure, but because those who do not know how to pursue pleasure rationally encounter consequences that are extremely painful. Nor again is there anyone who loves or pursues or desires to obtain pain of itself, because it is pain, but because occasionally circumstances occur in which toil and pain can procure him some great pleasure. To take a trivial example, which of us ever undertakes laborious physical exercise, except to obtain some advantage from it? But who has any right to find fault with a man who chooses to enjoy a pleasure that has no annoying consequences, or one who avoids a pain that produces no resultant pleasure? On the other hand, we denounce with righteous indignation and dislike men who are so beguiled and demoralized by the charms of pleasure of the moment, so blinded by desire, that they cannot foresee the pain and trouble that are bound to ensue; and equal blame belongs to those who fail in their duty through weakness of will, which is the same as saying through shrinking from toil and pain. These cases are perfectly simple and easy to distinguish. In a free hour, when our power of choice is untrammelled and when nothing prevents our being able to do what we like best, every pleasure is to be welcomed and every pain avoided. But in certain circumstances and owing to the claims of duty or the obligations of business it will frequently occur that pleasures have to be repudiated and annoyances accepted. The wise man therefore always holds in these matters to this principle of selection: he rejects pleasures to secure other greater pleasures, or else he endures pains to avoid worse pains. But I must explain to you how all this mistaken idea of denouncing pleasure and praising pain was born and I will give you a complete account of the system, and expound the actual teachings of the great explorer of the truth, the master-builder of human happiness. No one rejects, dislikes, or avoids pleasure itself, because it is pleasure, but because those who do not know how to pursue pleasure rationally encounter consequences that are extremely painful. Nor again is there anyone who loves or pursues or desires to obtain pain of itself, because it is pain, but because occasionally circumstances occur in which toil and pain can procure him some great pleasure. To take a trivial example, which of us ever undertakes laborious physical exercise, except to obtain some advantage from it? But who has any right to find fault with a man who chooses to enjoy a pleasure that has no annoying consequences, or one who avoids a pain that produces no resultant pleasure? On the other hand, we denounce with righteous indignation and dislike men who are so beguiled and demoralized by the charms of pleasure of the moment, so blinded by desire, that they cannot foresee the pain and trouble that are bound to ensue; and equal blame belongs to those who fail in their duty through weakness of will, which is the same as saying through shrinking from toil and pain. These cases are perfectly simple and easy to distinguish. In a free hour, when our power of choice is untrammelled and when nothing prevents our being able to do what we like best, every pleasure is to be welcomed and every pain avoided. But in certain circumstances and owing to the claims of duty or the obligations of business it will frequently occur that pleasures have to be repudiated and annoyances accepted. The wise man therefore always holds in these matters to this principle of selection: he rejects pleasures to secure other greater pleasures, or else he endures pains to avoid worse pains.But I must explain to you how all this mistaken idea of denouncing pleasure and praising pain was born and I will give you a complete account of the system, and expound the actual teachings of the great explorer of the truth, the master-builder of human happiness. No one rejects, dislikes, or avoids pleasure itself, because it is pleasure, but because those who do not know how to pursue pleasure rationally encounter consequences that are extremely painful. Nor again is there anyone who loves or pursues or desires to obtain pain of itself, because it is pain, but because occasionally circumstances occur in which toil and pain can procure him some great pleasure. To take a trivial example, which of us ever undertakes laborious physical exercise, except to obtain some advantage from it? But who has any right to find fault with a man who chooses to enjoy a pleasure that has no annoying consequences, or one who avoids a pain that produces no resultant pleasure? On the other hand, we denounce with righteous indignation and dislike men who are so beguiled and demoralized by the charms of pleasure of the moment, so blinded by desire, that they cannot foresee the pain and trouble that are bound to ensue; and equal blame belongs to those who fail in their duty through weakness of will, which is the same as saying through shrinking from toil and pain. These cases are perfectly simple and easy to distinguish. In a free hour, when our power of choice is untrammelled and when nothing prevents our being able to do what we like best, every pleasure is to be welcomed and every pain avoided. But in certain circumstances and owing to the claims of duty or the obligations of business it will frequently occur that pleasures have to be repudiated\"\"\"\n",
    "print(message)"
   ]
  },
  {
   "cell_type": "code",
   "execution_count": 10,
   "metadata": {},
   "outputs": [
    {
     "name": "stdout",
     "output_type": "stream",
     "text": [
      "Το κείμενο έχει 11593 χαρακτήρες και 1999 λέξεις\n"
     ]
    }
   ],
   "source": [
    "print(f'Το κείμενο έχει {len(message)} χαρακτήρες και {len(message.split())} λέξεις')"
   ]
  },
  {
   "cell_type": "code",
   "execution_count": 11,
   "metadata": {},
   "outputs": [],
   "source": [
    "m = just_letters(message)"
   ]
  },
  {
   "cell_type": "code",
   "execution_count": 12,
   "metadata": {},
   "outputs": [
    {
     "data": {
      "text/plain": [
       "'BUTIMUSTEXPLAINTOYOUHOWALLTHISMISTAKENIDEAOFDENOUNCINGPLEASUREANDPRAISINGPAINWASBORNANDIWILLGIVEYOUACOMPLETEACCOUNTOFTHESYSTEMANDEXPOUNDTHEACTUALTEACHINGSOFTHEGREATEXPLOREROFTHETRUTHTHEMASTERBUILDEROFHUMANHAPPINESSNOONEREJECTSDISLIKESORAVOIDSPLEASUREITSELFBECAUSEITISPLEASUREBUTBECAUSETHOSEWHODONOTKNOWHOWTOPURSUEPLEASURERATIONALLYENCOUNTERCONSEQUENCESTHATAREEXTREMELYPAINFULNORAGAINISTHEREANYONEWHOLOVESORPURSUESORDESIRESTOOBTAINPAINOFITSELFBECAUSEITISPAINBUTBECAUSEOCCASIONALLYCIRCUMSTANCESOCCURINWHICHTOILANDPAINCANPROCUREHIMSOMEGREATPLEASURETOTAKEATRIVIALEXAMPLEWHICHOFUSEVERUNDERTAKESLABORIOUSPHYSICALEXERCISEEXCEPTTOOBTAINSOMEADVANTAGEFROMITBUTWHOHASANYRIGHTTOFINDFAULTWITHAMANWHOCHOOSESTOENJOYAPLEASURETHATHASNOANNOYINGCONSEQUENCESORONEWHOAVOIDSAPAINTHATPRODUCESNORESULTANTPLEASUREONTHEOTHERHANDWEDENOUNCEWITHRIGHTEOUSINDIGNATIONANDDISLIKEMENWHOARESOBEGUILEDANDDEMORALIZEDBYTHECHARMSOFPLEASUREOFTHEMOMENTSOBLINDEDBYDESIRETHATTHEYCANNOTFORESEETHEPAINANDTROUBLETHATAREBOUNDTOENSUEANDEQUALBLAMEBELONGSTOTHOSEWHOFAILINTHEIRDUTYTHROUGHWEAKNESSOFWILLWHICHISTHESAMEASSAYINGTHROUGHSHRINKINGFROMTOILANDPAINTHESECASESAREPERFECTLYSIMPLEANDEASYTODISTINGUISHINAFREEHOURWHENOURPOWEROFCHOICEISUNTRAMMELLEDANDWHENNOTHINGPREVENTSOURBEINGABLETODOWHATWELIKEBESTEVERYPLEASUREISTOBEWELCOMEDANDEVERYPAINAVOIDEDBUTINCERTAINCIRCUMSTANCESANDOWINGTOTHECLAIMSOFDUTYORTHEOBLIGATIONSOFBUSINESSITWILLFREQUENTLYOCCURTHATPLEASURESHAVETOBEREPUDIATEDANDANNOYANCESACCEPTEDTHEWISEMANTHEREFOREALWAYSHOLDSINTHESEMATTERSTOTHISPRINCIPLEOFSELECTIONHEREJECTSPLEASURESTOSECUREOTHERGREATERPLEASURESORELSEHEENDURESPAINSTOAVOIDWORSEPAINSBUTIMUSTEXPLAINTOYOUHOWALLTHISMISTAKENIDEAOFDENOUNCINGPLEASUREANDPRAISINGPAINWASBORNANDIWILLGIVEYOUACOMPLETEACCOUNTOFTHESYSTEMANDEXPOUNDTHEACTUALTEACHINGSOFTHEGREATEXPLOREROFTHETRUTHTHEMASTERBUILDEROFHUMANHAPPINESSNOONEREJECTSDISLIKESORAVOIDSPLEASUREITSELFBECAUSEITISPLEASUREBUTBECAUSETHOSEWHODONOTKNOWHOWTOPURSUEPLEASURERATIONALLYENCOUNTERCONSEQUENCESTHATAREEXTREMELYPAINFULNORAGAINISTHEREANYONEWHOLOVESORPURSUESORDESIRESTOOBTAINPAINOFITSELFBECAUSEITISPAINBUTBECAUSEOCCASIONALLYCIRCUMSTANCESOCCURINWHICHTOILANDPAINCANPROCUREHIMSOMEGREATPLEASURETOTAKEATRIVIALEXAMPLEWHICHOFUSEVERUNDERTAKESLABORIOUSPHYSICALEXERCISEEXCEPTTOOBTAINSOMEADVANTAGEFROMITBUTWHOHASANYRIGHTTOFINDFAULTWITHAMANWHOCHOOSESTOENJOYAPLEASURETHATHASNOANNOYINGCONSEQUENCESORONEWHOAVOIDSAPAINTHATPRODUCESNORESULTANTPLEASUREONTHEOTHERHANDWEDENOUNCEWITHRIGHTEOUSINDIGNATIONANDDISLIKEMENWHOARESOBEGUILEDANDDEMORALIZEDBYTHECHARMSOFPLEASUREOFTHEMOMENTSOBLINDEDBYDESIRETHATTHEYCANNOTFORESEETHEPAINANDTROUBLETHATAREBOUNDTOENSUEANDEQUALBLAMEBELONGSTOTHOSEWHOFAILINTHEIRDUTYTHROUGHWEAKNESSOFWILLWHICHISTHESAMEASSAYINGTHROUGHSHRINKINGFROMTOILANDPAINTHESECASESAREPERFECTLYSIMPLEANDEASYTODISTINGUISHINAFREEHOURWHENOURPOWEROFCHOICEISUNTRAMMELLEDANDWHENNOTHINGPREVENTSOURBEINGABLETODOWHATWELIKEBESTEVERYPLEASUREISTOBEWELCOMEDANDEVERYPAINAVOIDEDBUTINCERTAINCIRCUMSTANCESANDOWINGTOTHECLAIMSOFDUTYORTHEOBLIGATIONSOFBUSINESSITWILLFREQUENTLYOCCURTHATPLEASURESHAVETOBEREPUDIATEDANDANNOYANCESACCEPTEDTHEWISEMANTHEREFOREALWAYSHOLDSINTHESEMATTERSTOTHISPRINCIPLEOFSELECTIONHEREJECTSPLEASURESTOSECUREOTHERGREATERPLEASURESORELSEHEENDURESPAINSTOAVOIDWORSEPAINSBUTIMUSTEXPLAINTOYOUHOWALLTHISMISTAKENIDEAOFDENOUNCINGPLEASUREANDPRAISINGPAINWASBORNANDIWILLGIVEYOUACOMPLETEACCOUNTOFTHESYSTEMANDEXPOUNDTHEACTUALTEACHINGSOFTHEGREATEXPLOREROFTHETRUTHTHEMASTERBUILDEROFHUMANHAPPINESSNOONEREJECTSDISLIKESORAVOIDSPLEASUREITSELFBECAUSEITISPLEASUREBUTBECAUSETHOSEWHODONOTKNOWHOWTOPURSUEPLEASURERATIONALLYENCOUNTERCONSEQUENCESTHATAREEXTREMELYPAINFULNORAGAINISTHEREANYONEWHOLOVESORPURSUESORDESIRESTOOBTAINPAINOFITSELFBECAUSEITISPAINBUTBECAUSEOCCASIONALLYCIRCUMSTANCESOCCURINWHICHTOILANDPAINCANPROCUREHIMSOMEGREATPLEASURETOTAKEATRIVIALEXAMPLEWHICHOFUSEVERUNDERTAKESLABORIOUSPHYSICALEXERCISEEXCEPTTOOBTAINSOMEADVANTAGEFROMITBUTWHOHASANYRIGHTTOFINDFAULTWITHAMANWHOCHOOSESTOENJOYAPLEASURETHATHASNOANNOYINGCONSEQUENCESORONEWHOAVOIDSAPAINTHATPRODUCESNORESULTANTPLEASUREONTHEOTHERHANDWEDENOUNCEWITHRIGHTEOUSINDIGNATIONANDDISLIKEMENWHOARESOBEGUILEDANDDEMORALIZEDBYTHECHARMSOFPLEASUREOFTHEMOMENTSOBLINDEDBYDESIRETHATTHEYCANNOTFORESEETHEPAINANDTROUBLETHATAREBOUNDTOENSUEANDEQUALBLAMEBELONGSTOTHOSEWHOFAILINTHEIRDUTYTHROUGHWEAKNESSOFWILLWHICHISTHESAMEASSAYINGTHROUGHSHRINKINGFROMTOILANDPAINTHESECASESAREPERFECTLYSIMPLEANDEASYTODISTINGUISHINAFREEHOURWHENOURPOWEROFCHOICEISUNTRAMMELLEDANDWHENNOTHINGPREVENTSOURBEINGABLETODOWHATWELIKEBESTEVERYPLEASUREISTOBEWELCOMEDANDEVERYPAINAVOIDEDBUTINCERTAINCIRCUMSTANCESANDOWINGTOTHECLAIMSOFDUTYORTHEOBLIGATIONSOFBUSINESSITWILLFREQUENTLYOCCURTHATPLEASURESHAVETOBEREPUDIATEDANDANNOYANCESACCEPTEDTHEWISEMANTHEREFOREALWAYSHOLDSINTHESEMATTERSTOTHISPRINCIPLEOFSELECTIONHEREJECTSPLEASURESTOSECUREOTHERGREATERPLEASURESORELSEHEENDURESPAINSTOAVOIDWORSEPAINSBUTIMUSTEXPLAINTOYOUHOWALLTHISMISTAKENIDEAOFDENOUNCINGPLEASUREANDPRAISINGPAINWASBORNANDIWILLGIVEYOUACOMPLETEACCOUNTOFTHESYSTEMANDEXPOUNDTHEACTUALTEACHINGSOFTHEGREATEXPLOREROFTHETRUTHTHEMASTERBUILDEROFHUMANHAPPINESSNOONEREJECTSDISLIKESORAVOIDSPLEASUREITSELFBECAUSEITISPLEASUREBUTBECAUSETHOSEWHODONOTKNOWHOWTOPURSUEPLEASURERATIONALLYENCOUNTERCONSEQUENCESTHATAREEXTREMELYPAINFULNORAGAINISTHEREANYONEWHOLOVESORPURSUESORDESIRESTOOBTAINPAINOFITSELFBECAUSEITISPAINBUTBECAUSEOCCASIONALLYCIRCUMSTANCESOCCURINWHICHTOILANDPAINCANPROCUREHIMSOMEGREATPLEASURETOTAKEATRIVIALEXAMPLEWHICHOFUSEVERUNDERTAKESLABORIOUSPHYSICALEXERCISEEXCEPTTOOBTAINSOMEADVANTAGEFROMITBUTWHOHASANYRIGHTTOFINDFAULTWITHAMANWHOCHOOSESTOENJOYAPLEASURETHATHASNOANNOYINGCONSEQUENCESORONEWHOAVOIDSAPAINTHATPRODUCESNORESULTANTPLEASUREONTHEOTHERHANDWEDENOUNCEWITHRIGHTEOUSINDIGNATIONANDDISLIKEMENWHOARESOBEGUILEDANDDEMORALIZEDBYTHECHARMSOFPLEASUREOFTHEMOMENTSOBLINDEDBYDESIRETHATTHEYCANNOTFORESEETHEPAINANDTROUBLETHATAREBOUNDTOENSUEANDEQUALBLAMEBELONGSTOTHOSEWHOFAILINTHEIRDUTYTHROUGHWEAKNESSOFWILLWHICHISTHESAMEASSAYINGTHROUGHSHRINKINGFROMTOILANDPAINTHESECASESAREPERFECTLYSIMPLEANDEASYTODISTINGUISHINAFREEHOURWHENOURPOWEROFCHOICEISUNTRAMMELLEDANDWHENNOTHINGPREVENTSOURBEINGABLETODOWHATWELIKEBESTEVERYPLEASUREISTOBEWELCOMEDANDEVERYPAINAVOIDEDBUTINCERTAINCIRCUMSTANCESANDOWINGTOTHECLAIMSOFDUTYORTHEOBLIGATIONSOFBUSINESSITWILLFREQUENTLYOCCURTHATPLEASURESHAVETOBEREPUDIATEDANDANNOYANCESACCEPTEDTHEWISEMANTHEREFOREALWAYSHOLDSINTHESEMATTERSTOTHISPRINCIPLEOFSELECTIONHEREJECTSPLEASURESTOSECUREOTHERGREATERPLEASURESORELSEHEENDURESPAINSTOAVOIDWORSEPAINSBUTIMUSTEXPLAINTOYOUHOWALLTHISMISTAKENIDEAOFDENOUNCINGPLEASUREANDPRAISINGPAINWASBORNANDIWILLGIVEYOUACOMPLETEACCOUNTOFTHESYSTEMANDEXPOUNDTHEACTUALTEACHINGSOFTHEGREATEXPLOREROFTHETRUTHTHEMASTERBUILDEROFHUMANHAPPINESSNOONEREJECTSDISLIKESORAVOIDSPLEASUREITSELFBECAUSEITISPLEASUREBUTBECAUSETHOSEWHODONOTKNOWHOWTOPURSUEPLEASURERATIONALLYENCOUNTERCONSEQUENCESTHATAREEXTREMELYPAINFULNORAGAINISTHEREANYONEWHOLOVESORPURSUESORDESIRESTOOBTAINPAINOFITSELFBECAUSEITISPAINBUTBECAUSEOCCASIONALLYCIRCUMSTANCESOCCURINWHICHTOILANDPAINCANPROCUREHIMSOMEGREATPLEASURETOTAKEATRIVIALEXAMPLEWHICHOFUSEVERUNDERTAKESLABORIOUSPHYSICALEXERCISEEXCEPTTOOBTAINSOMEADVANTAGEFROMITBUTWHOHASANYRIGHTTOFINDFAULTWITHAMANWHOCHOOSESTOENJOYAPLEASURETHATHASNOANNOYINGCONSEQUENCESORONEWHOAVOIDSAPAINTHATPRODUCESNORESULTANTPLEASUREONTHEOTHERHANDWEDENOUNCEWITHRIGHTEOUSINDIGNATIONANDDISLIKEMENWHOARESOBEGUILEDANDDEMORALIZEDBYTHECHARMSOFPLEASUREOFTHEMOMENTSOBLINDEDBYDESIRETHATTHEYCANNOTFORESEETHEPAINANDTROUBLETHATAREBOUNDTOENSUEANDEQUALBLAMEBELONGSTOTHOSEWHOFAILINTHEIRDUTYTHROUGHWEAKNESSOFWILLWHICHISTHESAMEASSAYINGTHROUGHSHRINKINGFROMTOILANDPAINTHESECASESAREPERFECTLYSIMPLEANDEASYTODISTINGUISHINAFREEHOURWHENOURPOWEROFCHOICEISUNTRAMMELLEDANDWHENNOTHINGPREVENTSOURBEINGABLETODOWHATWELIKEBESTEVERYPLEASUREISTOBEWELCOMEDANDEVERYPAINAVOIDEDBUTINCERTAINCIRCUMSTANCESANDOWINGTOTHECLAIMSOFDUTYORTHEOBLIGATIONSOFBUSINESSITWILLFREQUENTLYOCCURTHATPLEASURESHAVETOBEREPUDIATEDANDANNOYANCESACCEPTEDTHEWISEMANTHEREFOREALWAYSHOLDSINTHESEMATTERSTOTHISPRINCIPLEOFSELECTIONHEREJECTSPLEASURESTOSECUREOTHERGREATERPLEASURESORELSEHEENDURESPAINSTOAVOIDWORSEPAINSBUTIMUSTEXPLAINTOYOUHOWALLTHISMISTAKENIDEAOFDENOUNCINGPLEASUREANDPRAISINGPAINWASBORNANDIWILLGIVEYOUACOMPLETEACCOUNTOFTHESYSTEMANDEXPOUNDTHEACTUALTEACHINGSOFTHEGREATEXPLOREROFTHETRUTHTHEMASTERBUILDEROFHUMANHAPPINESSNOONEREJECTSDISLIKESORAVOIDSPLEASUREITSELFBECAUSEITISPLEASUREBUTBECAUSETHOSEWHODONOTKNOWHOWTOPURSUEPLEASURERATIONALLYENCOUNTERCONSEQUENCESTHATAREEXTREMELYPAINFULNORAGAINISTHEREANYONEWHOLOVESORPURSUESORDESIRESTOOBTAINPAINOFITSELFBECAUSEITISPAINBUTBECAUSEOCCASIONALLYCIRCUMSTANCESOCCURINWHICHTOILANDPAINCANPROCUREHIMSOMEGREATPLEASURETOTAKEATRIVIALEXAMPLEWHICHOFUSEVERUNDERTAKESLABORIOUSPHYSICALEXERCISEEXCEPTTOOBTAINSOMEADVANTAGEFROMITBUTWHOHASANYRIGHTTOFINDFAULTWITHAMANWHOCHOOSESTOENJOYAPLEASURETHATHASNOANNOYINGCONSEQUENCESORONEWHOAVOIDSAPAINTHATPRODUCESNORESULTANTPLEASUREONTHEOTHERHANDWEDENOUNCEWITHRIGHTEOUSINDIGNATIONANDDISLIKEMENWHOARESOBEGUILEDANDDEMORALIZEDBYTHECHARMSOFPLEASUREOFTHEMOMENTSOBLINDEDBYDESIRETHATTHEYCANNOTFORESEETHEPAINANDTROUBLETHATAREBOUNDTOENSUEANDEQUALBLAMEBELONGSTOTHOSEWHOFAILINTHEIRDUTYTHROUGHWEAKNESSOFWILLWHICHISTHESAMEASSAYINGTHROUGHSHRINKINGFROMTOILANDPAINTHESECASESAREPERFECTLYSIMPLEANDEASYTODISTINGUISHINAFREEHOURWHENOURPOWEROFCHOICEISUNTRAMMELLEDANDWHENNOTHINGPREVENTSOURBEINGABLETODOWHATWELIKEBESTEVERYPLEASUREISTOBEWELCOMEDANDEVERYPAINAVOIDEDBUTINCERTAINCIRCUMSTANCESANDOWINGTOTHECLAIMSOFDUTYORTHEOBLIGATIONSOFBUSINESSITWILLFREQUENTLYOCCURTHATPLEASURESHAVETOBEREPUDIATED'"
      ]
     },
     "execution_count": 12,
     "metadata": {},
     "output_type": "execute_result"
    }
   ],
   "source": [
    "m"
   ]
  },
  {
   "cell_type": "code",
   "execution_count": 20,
   "metadata": {},
   "outputs": [
    {
     "name": "stdout",
     "output_type": "stream",
     "text": [
      "True\n"
     ]
    }
   ],
   "source": [
    "caesar = ciphers.Caesar()\n",
    "ciphertext = caesar.encrypt(m)\n",
    "decrypted = caesar.decrypt(ciphertext)\n",
    "print(decrypted == m)"
   ]
  },
  {
   "cell_type": "code",
   "execution_count": 21,
   "metadata": {},
   "outputs": [],
   "source": [
    "f = frequencies(ciphertext)"
   ]
  },
  {
   "cell_type": "code",
   "execution_count": 22,
   "metadata": {},
   "outputs": [
    {
     "data": {
      "image/png": "[encoded data removed]",
      "text/plain": [
       "<Figure size 432x288 with 1 Axes>"
      ]
     },
     "metadata": {
      "needs_background": "light"
     },
     "output_type": "display_data"
    }
   ],
   "source": [
    "freq_diagram(f)"
   ]
  },
  {
   "cell_type": "markdown",
   "metadata": {},
   "source": [
    "Θεωρούμε πως κάποιος γνωρίζει ότι έχουμε χρησιμοποιήσει αλγόριθμο του Καίσαρα, χωρίς να γνωρίζει το offset και έχει στη διάθεση του το κρυπτοκείμενο. Η παρακάτω συνάρτηση βρίσκει το κλειδί. Απλά βρίσκουμε το πιο συχνό γράμμα και υπολογίζουμε το offset που έχει από το E Μάλλον το κλειδί θα είναι αυτό το offset. Αυτή η μέθοδος στηρίζεται στο γεγονός ότι το E έχει πολύ μεγαλύτερη σχετική συχνότητα σε σχέση με τα άλλα γράμματα."
   ]
  },
  {
   "cell_type": "code",
   "execution_count": 23,
   "metadata": {},
   "outputs": [],
   "source": [
    "def crack_caesar(ciphertext):\n",
    "    decryptomap = dict(zip(list(frequencies(ciphertext)), list(english_frequencies)))\n",
    "    for k in decryptomap:\n",
    "        if decryptomap[k] == 'E':\n",
    "            offset =  ord(k) - ord('E')\n",
    "    return offset"
   ]
  },
  {
   "cell_type": "code",
   "execution_count": 24,
   "metadata": {},
   "outputs": [
    {
     "data": {
      "text/plain": [
       "3"
      ]
     },
     "execution_count": 24,
     "metadata": {},
     "output_type": "execute_result"
    }
   ],
   "source": [
    "crack_caesar(ciphertext)"
   ]
  },
  {
   "cell_type": "markdown",
   "metadata": {},
   "source": [
    "Αν κάποιος επίτηδες δε χρησιμοποιεί πολύ το E στο αρχικό κείμενο του τότε το παραπάνω αποτυγχάνει, γι αυτό ίσως είναι πιο έξυπνο να πάρουμε το πιο πιθανό offset με βάση τις συχνότητες όλου του αλφαβήτου:"
   ]
  },
  {
   "cell_type": "code",
   "execution_count": 25,
   "metadata": {},
   "outputs": [],
   "source": [
    "def crack_caesar_better(ciphertext):\n",
    "    offset_freq = defaultdict(int)\n",
    "    f = frequencies(ciphertext)\n",
    "    f = [(k, f[k]) for k in f]\n",
    "    ef = [(k, english_frequencies[k]) for k in english_frequencies]\n",
    "    for i in range(26):\n",
    "        offset_freq[ord(f[i][0]) - ord(ef[i][0])] += 1\n",
    "    return most_frequent_key(offset_freq)"
   ]
  },
  {
   "cell_type": "code",
   "execution_count": 26,
   "metadata": {},
   "outputs": [
    {
     "data": {
      "text/plain": [
       "3"
      ]
     },
     "execution_count": 26,
     "metadata": {},
     "output_type": "execute_result"
    }
   ],
   "source": [
    "crack_caesar_better(ciphertext)"
   ]
  },
  {
   "cell_type": "code",
   "execution_count": null,
   "metadata": {},
   "outputs": [],
   "source": []
  }
 ],
 "metadata": {
  "kernelspec": {
   "display_name": "Python 3",
   "language": "python",
   "name": "python3"
  },
  "language_info": {
   "codemirror_mode": {
    "name": "ipython",
    "version": 3
   },
   "file_extension": ".py",
   "mimetype": "text/x-python",
   "name": "python",
   "nbconvert_exporter": "python",
   "pygments_lexer": "ipython3",
   "version": "3.8.1"
  }
 },
 "nbformat": 4,
 "nbformat_minor": 4
}
